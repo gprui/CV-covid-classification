{
 "cells": [
  {
   "cell_type": "code",
   "execution_count": 1,
   "metadata": {},
   "outputs": [],
   "source": [
    "from fastai.vision.all import *\n",
    "from fastai.vision.widgets import *"
   ]
  },
  {
   "cell_type": "markdown",
   "metadata": {},
   "source": [
    "# Covid CV classifier!"
   ]
  },
  {
   "cell_type": "markdown",
   "metadata": {},
   "source": [
    "Upload a CV scan of covid-19, with a CSV file, using PSTrace - export to CSV. You can upload a single cycle of the scan, or a complete sample. Because of high variance between batches, you can choose different models for different batches.\n",
    "\n",
    "----"
   ]
  },
  {
   "cell_type": "code",
   "execution_count": 2,
   "metadata": {},
   "outputs": [],
   "source": [
    "def my_label(): return"
   ]
  },
  {
   "cell_type": "code",
   "execution_count": 3,
   "metadata": {},
   "outputs": [],
   "source": [
    "path = Path()"
   ]
  },
  {
   "cell_type": "code",
   "execution_count": 4,
   "metadata": {},
   "outputs": [],
   "source": [
    "models = path.ls(file_exts='.pkl')"
   ]
  },
  {
   "cell_type": "code",
   "execution_count": 5,
   "metadata": {},
   "outputs": [],
   "source": [
    "learn_inf = load_learner(path/models[0], cpu=True)"
   ]
  },
  {
   "cell_type": "code",
   "execution_count": 6,
   "metadata": {},
   "outputs": [],
   "source": [
    "model_dropdown = widgets.Dropdown(options=[(str(x)[:-4],x) for x in models])\n",
    "btn_upload = widgets.FileUpload()\n",
    "out_pl = widgets.Output()\n",
    "lbl_pred = widgets.HTML()\n",
    "befo_pred = widgets.Label()\n",
    "befo_pred.value = \"Analyzed prediction for the sample:\""
   ]
  },
  {
   "cell_type": "code",
   "execution_count": 7,
   "metadata": {},
   "outputs": [],
   "source": [
    "image_paths = []\n",
    "def create_image(data):\n",
    "    global image_paths\n",
    "    content = \"\".join([x for x in data.decode('utf-8', errors='ignore') if x in string.printable])\n",
    "    df = pd.read_csv(io.StringIO(content), error_bad_lines=False, skiprows=[0,1,2,3,4],index_col=False)\n",
    "    \n",
    "    return_list =[]\n",
    "    for i in range(len(df.columns))[::2]:\n",
    "        columns = array(df.iloc[:,[i,i+1]])\n",
    "        my_dpi = 300\n",
    "        fig=plt.figure(figsize=(1200/my_dpi, 800/my_dpi), dpi=my_dpi)\n",
    "        plt.plot(columns[:,0],columns[:,1])\n",
    "        \n",
    "        local_path = path/f'{i}.jpg'\n",
    "        plt.savefig(local_path)\n",
    "        plt.close()\n",
    "        \n",
    "        image_paths.append(local_path)\n",
    "        return_list.append(PILImage.create(local_path))\n",
    "    return return_list"
   ]
  },
  {
   "cell_type": "code",
   "execution_count": 8,
   "metadata": {},
   "outputs": [],
   "source": [
    "def on_model_change(change):\n",
    "    global learn_inf\n",
    "    learn_inf = load_learner(path/model_dropdown.value, cpu=True)"
   ]
  },
  {
   "cell_type": "code",
   "execution_count": 9,
   "metadata": {},
   "outputs": [],
   "source": [
    "def on_data_change(change):\n",
    "    global image_paths\n",
    "    wrong_label= {'Neg':'Pos','Pos':'Neg'}\n",
    "    preds = []\n",
    "    probs = []\n",
    "    \n",
    "    img = create_image(btn_upload.data[-1])\n",
    "    out_pl.clear_output()\n",
    "    \n",
    "    fig=plt.figure()\n",
    "    axes = []\n",
    "    for i in range(len(img)): \n",
    "        pred,pred_idx,prob = learn_inf.predict(image_paths[i])\n",
    "        preds.append(pred)\n",
    "        probs.append(prob[pred_idx])\n",
    "        \n",
    "        axes.append( fig.add_subplot(2, int(len(img)/2) +1 , i+1) )\n",
    "        subplot_title=(f\"cycle-{i}\\nPrediction: {wrong_label[pred]}\\nProbability: {prob[pred_idx]:.04f}\")\n",
    "        axes[-1].set_title(subplot_title)  \n",
    "        plt.imshow(img[i])\n",
    "        plt.axis('off')\n",
    "        \n",
    "    fig.tight_layout()\n",
    "    out_pl.clear_output()\n",
    "    \n",
    "    with out_pl: display(plt.show())\n",
    "    \n",
    "    dic = {'Pos':1,'Neg':0}\n",
    "    my_sum =0\n",
    "    for i in range(len(preds)):\n",
    "        if dic[preds[i]]: my_sum  += probs[i] #math.exp(i * -1 / 4) * probs[i]\n",
    "        else: my_sum  += -1 * probs[i] #math.exp(i * -1 / 4) * -1 * probs[i]\n",
    "            \n",
    "    if my_sum < 0:\n",
    "        pred = 'POSITIVE'\n",
    "    else: pred = 'NEGATIVE'\n",
    "    \n",
    "    prob_sum=0\n",
    "    for i in range(len(preds)):\n",
    "        if dic[preds[i]]: prob_sum  += probs[i]\n",
    "        else: prob_sum  += -1 * probs[i]\n",
    "    prob =abs(prob_sum)/len(probs)\n",
    "    \n",
    "\n",
    "    if my_sum < 0:\n",
    "        with_color = f\"<font color='red'>{pred}</b><b><font color='black'>\"\n",
    "    else: with_color = f\"<font color='green'>{pred}</b><b><font color='black'>\"\n",
    "    lbl_pred.value = f\"<b>COVID-19 Prediction: {with_color}; Probability: {100 * prob:.01f}%</b>\"\n",
    "    \n",
    "    for file in image_paths:\n",
    "        os.remove(file)\n",
    "    image_paths = []"
   ]
  },
  {
   "cell_type": "code",
   "execution_count": 10,
   "metadata": {},
   "outputs": [],
   "source": [
    "model_dropdown.observe(on_model_change)\n",
    "btn_upload.observe(on_data_change, names=['data'])"
   ]
  },
  {
   "cell_type": "code",
   "execution_count": 11,
   "metadata": {},
   "outputs": [
    {
     "data": {
      "application/vnd.jupyter.widget-view+json": {
       "model_id": "36682c80a9894d38aa5dd4f90108ddeb",
       "version_major": 2,
       "version_minor": 0
      },
      "text/plain": [
       "VBox(children=(HBox(children=(Label(value='Choose the model you want to use: '), Dropdown(options=(('please-Co…"
      ]
     },
     "metadata": {},
     "output_type": "display_data"
    },
    {
     "data": {
      "text/html": [],
      "text/plain": [
       "<IPython.core.display.HTML object>"
      ]
     },
     "metadata": {},
     "output_type": "display_data"
    },
    {
     "data": {
      "text/html": [],
      "text/plain": [
       "<IPython.core.display.HTML object>"
      ]
     },
     "metadata": {},
     "output_type": "display_data"
    },
    {
     "data": {
      "text/html": [],
      "text/plain": [
       "<IPython.core.display.HTML object>"
      ]
     },
     "metadata": {},
     "output_type": "display_data"
    },
    {
     "data": {
      "text/html": [],
      "text/plain": [
       "<IPython.core.display.HTML object>"
      ]
     },
     "metadata": {},
     "output_type": "display_data"
    },
    {
     "data": {
      "text/html": [],
      "text/plain": [
       "<IPython.core.display.HTML object>"
      ]
     },
     "metadata": {},
     "output_type": "display_data"
    }
   ],
   "source": [
    "display(VBox([HBox([widgets.Label('Choose the model you want to use: '), model_dropdown]),\n",
    "              widgets.Label('Select your scan - use CSV file format: '), btn_upload, out_pl,befo_pred, lbl_pred]))"
   ]
  },
  {
   "cell_type": "code",
   "execution_count": null,
   "metadata": {},
   "outputs": [],
   "source": []
  }
 ],
 "metadata": {
  "kernelspec": {
   "display_name": "Python 3",
   "language": "python",
   "name": "python3"
  },
  "language_info": {
   "codemirror_mode": {
    "name": "ipython",
    "version": 3
   },
   "file_extension": ".py",
   "mimetype": "text/x-python",
   "name": "python",
   "nbconvert_exporter": "python",
   "pygments_lexer": "ipython3",
   "version": "3.7.6"
  }
 },
 "nbformat": 4,
 "nbformat_minor": 4
}
